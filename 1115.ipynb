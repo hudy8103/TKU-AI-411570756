{
  "nbformat": 4,
  "nbformat_minor": 0,
  "metadata": {
    "colab": {
      "provenance": [],
      "authorship_tag": "ABX9TyO4DcWxzA7pTA2s7NV9aAYt",
      "include_colab_link": true
    },
    "kernelspec": {
      "name": "python3",
      "display_name": "Python 3"
    },
    "language_info": {
      "name": "python"
    }
  },
  "cells": [
    {
      "cell_type": "markdown",
      "metadata": {
        "id": "view-in-github",
        "colab_type": "text"
      },
      "source": [
        "<a href=\"https://colab.research.google.com/github/hudy8103/TKU-AI-411570756/blob/main/1115.ipynb\" target=\"_parent\"><img src=\"https://colab.research.google.com/assets/colab-badge.svg\" alt=\"Open In Colab\"/></a>"
      ]
    },
    {
      "cell_type": "code",
      "execution_count": 1,
      "metadata": {
        "colab": {
          "base_uri": "https://localhost:8080/"
        },
        "id": "JFlWfyat0XxN",
        "outputId": "bee54c6f-d93b-4f86-ddfc-cfc58d187ba5"
      },
      "outputs": [
        {
          "output_type": "stream",
          "name": "stdout",
          "text": [
            "hi,python\n"
          ]
        }
      ],
      "source": [
        "print(\"hi,python\")"
      ]
    },
    {
      "cell_type": "markdown",
      "source": [
        "今天11月15號"
      ],
      "metadata": {
        "id": "2-pDTS2B0wII"
      }
    },
    {
      "cell_type": "code",
      "source": [
        "print(\"今天11月15號\")"
      ],
      "metadata": {
        "colab": {
          "base_uri": "https://localhost:8080/"
        },
        "id": "PG2eY4p10zYq",
        "outputId": "a6834693-8f74-4c97-93c9-41040d693321"
      },
      "execution_count": 2,
      "outputs": [
        {
          "output_type": "stream",
          "name": "stdout",
          "text": [
            "今天11月15號\n"
          ]
        }
      ]
    },
    {
      "cell_type": "code",
      "source": [
        "print(\"胡元彰,411570756\")"
      ],
      "metadata": {
        "colab": {
          "base_uri": "https://localhost:8080/"
        },
        "id": "y4HVaxN307Xo",
        "outputId": "0792753d-1da0-4943-e308-31ee329dae33"
      },
      "execution_count": 3,
      "outputs": [
        {
          "output_type": "stream",
          "name": "stdout",
          "text": [
            "胡元彰,411570756\n"
          ]
        }
      ]
    }
  ]
}